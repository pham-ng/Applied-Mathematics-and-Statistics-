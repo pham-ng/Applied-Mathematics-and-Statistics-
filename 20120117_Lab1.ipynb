{
 "cells": [
  {
   "cell_type": "markdown",
   "id": "283c4406",
   "metadata": {},
   "source": [
    "---\n",
    "\n",
    "#### Môn học: Toán ứng dụng & thống kê\n",
    "#### Lớp: CQ2022/2\n",
    "#### Họ tên: Phạm Nguyễn Khánh Minh\n",
    "#### MSSV: 20120117\n",
    "\n",
    "---\n",
    "\n"
   ]
  },
  {
   "cell_type": "markdown",
   "id": "b4d6eea0",
   "metadata": {},
   "source": [
    "<div style=\"text-align:center\"><h1>LAB 1: Gauss Elimination and Back Substitution\n",
    "</h1></div>"
   ]
  },
  {
   "cell_type": "markdown",
   "id": "af349f9f",
   "metadata": {},
   "source": [
    "# Phép khử Gauss\n",
    "\n",
    "**Khử Gauss** (Gaussian elimination) là một cách biến đổi tương đương dòng đưa ma trận về dạng bậc thang(tam giác trên). Thuật giải gồm các bước:\n",
    "\n",
    "> **Bước 1**. Xác định cột trái nhất không chứa toàn số 0.\n",
    "\n",
    "> **Bước 2**. Đổi chỗ hai dòng, nếu cần thiết, để đưa số hạng khác 0 nào đó ở dưới về đầu cột nhận được ở Bước 1.\n",
    "*(Chọn dòng đầu tiên có số hạng khác 0. Phức tạp hơn, chiến lược \"partial pivoting\" chọn dòng có số hạng có trị tuyệt đối lớn nhất.)*\n",
    "\n",
    "=> ***Phép biển đổi sơ cấp trên dòng Loại 1***\n",
    "\n",
    "> **Bước 3**. Với số hạng đầu cột nhận được từ Bước 2 là $a\\neq 0$ , nhân dòng chứa nó với $\\frac{1}{a}$\n",
    " để có **số dẫn đầu** `1` (leading 1).\n",
    "*(Bước này tùy chọn.)*\n",
    "\n",
    "=> ***Phép biển đổi sơ cấp trên dòng Loại 2***\n",
    "\n",
    "> **Bước 4**. Cộng một bội số thích hợp của dòng đầu cho từng dòng dưới để biến các số hạng bên dưới số dẫn đầu thành 0.\n",
    "\n",
    "=> ***Phép biển đổi sơ cấp trên dòng loại 3***\n",
    "\n",
    "> **Bước 5**. Che dòng đầu đã làm xong. Lặp lại các bước cho đến khi được ma trận bậc thang."
   ]
  },
  {
   "cell_type": "code",
   "execution_count": 22,
   "id": "cb73fbda",
   "metadata": {},
   "outputs": [],
   "source": [
    "def Gauss_elimination(A):\n",
    "    num_rows = len(A)\n",
    "    num_cols = len(A[0])\n",
    "\n",
    "    if not all(len(row) == num_cols for row in A):\n",
    "        raise ValueError(\"All rows must have the same length\")\n",
    "    \n",
    "    pivot_row = 0\n",
    "    pivot_cols = 0\n",
    "    \n",
    "    while pivot_row < num_rows and pivot_cols < num_cols:\n",
    "        max_row = pivot_row\n",
    "        max_val = abs(A[pivot_row][pivot_cols])\n",
    "       \n",
    "        # Tìm hàng có giá trị lớn nhất trong cột pivot_cols từ hàng pivot_row trở đi\n",
    "        for i in range(pivot_row + 1, num_rows):\n",
    "            if abs(A[i][pivot_cols]) > max_val:\n",
    "                max_row = i\n",
    "                max_val = abs(A[i][pivot_cols])\n",
    "        \n",
    "        # Hoán vị hai hàng nếu cần\n",
    "        if max_row != pivot_row:\n",
    "            A[pivot_row], A[max_row] = A[max_row], A[pivot_row]\n",
    "        \n",
    "        # Kiểm tra nếu phần tử pivot là 0, nếu có, chuyển sang cột tiếp theo\n",
    "        if A[pivot_row][pivot_cols] == 0:\n",
    "            pivot_cols += 1\n",
    "            continue\n",
    "\n",
    "        # Chuyển các phần tử dưới pivot về 0\n",
    "        for i in range(pivot_row + 1, num_rows):\n",
    "            factor = A[i][pivot_cols] / A[pivot_row][pivot_cols]\n",
    "            for j in range(pivot_cols, num_cols):\n",
    "                A[i][j] -= factor * A[pivot_row][j]\n",
    "        \n",
    "        # Chuyển sang hàng tiếp theo và cột tiếp theo\n",
    "        pivot_row += 1\n",
    "        pivot_cols += 1\n",
    "\n",
    "    return A\n"
   ]
  },
  {
   "cell_type": "code",
   "execution_count": 23,
   "id": "cf501eaa",
   "metadata": {},
   "outputs": [
    {
     "name": "stdout",
     "output_type": "stream",
     "text": [
      "Ma trận mở rông đã nhập: \n",
      "[2, 1, -1, 8]\n",
      "[-3, -1, 2, -11]\n",
      "[-2, 1, 2, -3]\n",
      "\n",
      "Dạng ma trận bậc thang của ma trận mở rộng đã nhập: \n",
      "[-3, -1, 2, -11]\n",
      "[0.0, 1.6666666666666665, 0.6666666666666667, 4.333333333333333]\n",
      "[0.0, 0.0, 0.19999999999999987, -0.19999999999999984]\n"
     ]
    }
   ],
   "source": [
    "# Hàm in ma trận một cách đẹp\n",
    "def print_matrix(matrix):\n",
    "    for row in matrix:\n",
    "        print(\" | \".join(f\"{val:8.2f}\" if isinstance(val, float) else f\"{val:8}\" for val in row))\n",
    "\n",
    "# Ma trận mở rộng đã nhập\n",
    "A = [[2, 1, -1, 8],\n",
    "     [-3, -1, 2, -11],\n",
    "     [-2, 1, 2, -3]]\n",
    "\n",
    "print(\"Ma trận mở rông đã nhập: \")\n",
    "for row in A:\n",
    "    print(row)\n",
    "\n",
    "# Dạng ma trận bậc thang của ma trận mở rộng đã nhập\n",
    "matrix =Gauss_elimination(A)\n",
    "\n",
    "print(\"\\nDạng ma trận bậc thang của ma trận mở rộng đã nhập: \")\n",
    "for row in matrix:\n",
    "    print(row)\n"
   ]
  },
  {
   "cell_type": "markdown",
   "id": "e4dc879b",
   "metadata": {},
   "source": [
    "# Back_substitution\n",
    "\n",
    "**Back_substitution**  là một cách Thế ngược ma trận bậc thang để tìm nghiệm của hệ phương trình\n",
    "\n",
    "> **Bước 1**.: Biện luận trên các dòng gồm toàn số 0 của ma trận các hệ số. Nếu có một dòng gồm toàn số 0 của \n",
    "\n",
    "A mà hệ số vế phải (tự do) tương ứng là một số khác 0 thì kết luận hệ vô nghiệm và giải thuật chấm dứt. Ngược lại, bỏ tất cả các dòng gồm toàn số 0 (của ma trận các hệ số cũng như của vectơ các hệ số vế phải (tự do)) và chuyển qua bước 2.\n",
    "\n",
    "> **Bước 2**.: Phép thế ngược (back substitution). Xác định các ẩn cơ sở là các ẩn tương ứng với các số dẫn đầu. Các ẩn còn lại được gọi là ẩn tự do (free variable).\n",
    "\n",
    "Xét hai khả năng:\n",
    "Không có ẩn tự do. Hệ có nghiệm duy nhất nhận được bằng cách giải từ dưới lên trên (backward).\n",
    "Có ít nhất một ẩn tự do. Hệ có vô số nghiệm và nghiệm tổng quát nhận được bằng cách giải từ dưới lên tìm biểu thức của các ẩn dẫn đầu theo các tham số của ẩn tự do (tùy ý).\n",
    "\n",
    "\n",
    "\n",
    "\n",
    "\n"
   ]
  },
  {
   "cell_type": "markdown",
   "id": "a927b23e",
   "metadata": {},
   "source": [
    "\n",
    "     hàm back_substitution(A), trong đó\n",
    "• Input:\n",
    "A, là ma trận có dạng bậc thang thu được từ ma trận mở rộng của hệ phương\n",
    "trình: Ax =b \n",
    "\n",
    "• Output: nghiệm của hệ phương trình (trường hợp nghiệm duy nhất/ vô số nghiệm)\n",
    "hoặc thông báo hệ phương trình vô nghiệm"
   ]
  },
  {
   "cell_type": "code",
   "execution_count": 24,
   "id": "dc480ad7",
   "metadata": {},
   "outputs": [],
   "source": [
    "import string\n",
    "import numpy as np\n",
    "from sympy import symbols\n",
    "\n",
    "def is_leading_row(A: np.array, row: int, col: int) -> bool:\n",
    "    result = bool\n",
    "    check_sum = np.array(A[row][:col]).sum()\n",
    "\n",
    "    if check_sum == 0:\n",
    "        result = True\n",
    "    else:\n",
    "        result = False\n",
    "\n",
    "    return result\n",
    "\n",
    "def is_zero_matrix(A: np.array) -> bool:\n",
    "    row, col = A.shape\n",
    "    result = True\n",
    "\n",
    "    for i in range(row):\n",
    "        for j in range(col):\n",
    "            if A[i][i] != 0:\n",
    "                result = False\n",
    "                return result\n",
    "            \n",
    "    return result\n",
    "\n",
    "def extract_matrix(A: np.array) -> np.array:\n",
    "    return (A.T)[0:-1].copy().T\n",
    "\n",
    "def back_substitution(A) ->np.array:\n",
    "    # Lấy số hàng và cột của ma trận\n",
    "    row, col = A.shape\n",
    "    col -= 1\n",
    "\n",
    "    # Tạo một danh sách kết quả nghiệm\n",
    "    x = np.zeros(col)\n",
    "\n",
    "    # Xét từng hàng của ma trận bậc thang từ hàng cuối lên đầu\n",
    "    for i in range(row - 1, -1, -1):\n",
    "        colum = i\n",
    "\n",
    "        while (A[i][colum] == 0 and colum < col):\n",
    "            colum += 1\n",
    "\n",
    "        if (colum == col):\n",
    "            colum -= 1\n",
    "        \n",
    "        factor = A[i][colum] \n",
    "        const = A[i][col] # Giá trị hằng số\n",
    "        \n",
    "        # Nếu hệ số bằng 0 và hằng số khác 0 thì hệ phương trình vô nghiệm\n",
    "        if factor == 0 and const != 0:\n",
    "            print(\"Hệ phương trình vô nghiệm\")\n",
    "            return np.array(0)\n",
    "        elif factor == 0 and const == 0:\n",
    "            continue\n",
    "\n",
    "        alphabet = symbols(list(string.ascii_lowercase))\n",
    "        y = []\n",
    "        index = 0\n",
    "\n",
    "        # Duyệt trên đường bậc thang để đánh dấu nghiệm\n",
    "        for i in range(col):\n",
    "            i_rows = row - 1\n",
    "\n",
    "            for _ in range(row):\n",
    "                if A[i_rows][i] != 0:\n",
    "                    if is_leading_row(A, i_rows, i):\n",
    "                        y.append(0)\n",
    "                    else:\n",
    "                        y.append(alphabet[index])\n",
    "                        index += 1\n",
    "        \n",
    "                    break\n",
    "                else:\n",
    "                    i_rows -= 1\n",
    "\n",
    "        x = np.array(y)\n",
    "        \n",
    "        # Loại trừ trường hợp ma trận 0\n",
    "        if is_zero_matrix(A) == True:\n",
    "            x = [alphabet[index] for index in range(col)]\n",
    "            return x\n",
    "\n",
    "    # back_substitution để tính nghiệm\n",
    "    i = col - 1\n",
    "    while i >= 0:\n",
    "        i_rows = row - 1\n",
    "\n",
    "        for _ in range(row):\n",
    "            if A[i_rows][i] != 0:\n",
    "                if is_leading_row(A, i_rows, i) == True:\n",
    "                    s = x.dot(extract_matrix(A)[i_rows])\n",
    "                    x[i] = (A[i_rows][col] - s) / A[i_rows][i]\n",
    "\n",
    "                break\n",
    "            else:\n",
    "                i_rows -= 1\n",
    "        \n",
    "        i -= 1\n",
    "\n",
    "    return np.array(x).T\n"
   ]
  },
  {
   "cell_type": "code",
   "execution_count": 25,
   "id": "a008193c",
   "metadata": {},
   "outputs": [
    {
     "name": "stdout",
     "output_type": "stream",
     "text": [
      "Ma trận mở rông (A|b) đã nhâp: \n",
      "[[ 1  3 -1  2  2  0]\n",
      " [ 0  3  3  0  3 -9]\n",
      " [ 0  0  1 -5  3 -3]\n",
      " [ 0  0  0 -1 -1  8]\n",
      " [ 0  0  0  0  0  0]]\n",
      "Nghiệm của hệ phương trình: \n",
      "x1 = -29*a - 147\n",
      "x2 = 7*a + 40\n",
      "x3 = -8*a - 43\n",
      "x4 = -a - 8\n",
      "x5 = a\n"
     ]
    }
   ],
   "source": [
    "A = np.array([\n",
    "    [1, 3, -1, 2 ,2 , 0],\n",
    "    [0, 3, 3, 0 , 3 , -9],\n",
    "    [0, 0, 1, -5 , 3 , -3],\n",
    "    [0, 0, 0 ,-1 ,-1 ,8],\n",
    "    [0, 0, 0, 0, 0, 0]\n",
    "])\n",
    "\n",
    "\n",
    "print(f\"Ma trận mở rông (A|b) đã nhâp: \\n{A}\")\n",
    "\n",
    "x = back_substitution(A)\n",
    "\n",
    "if x.any():\n",
    "        print(\"Nghiệm của hệ phương trình: \")\n",
    "        for i in range(x.shape[0]):\n",
    "            print(f\"x{i+1} = {x[i]}\")"
   ]
  },
  {
   "cell_type": "markdown",
   "id": "0d52d093",
   "metadata": {},
   "source": [
    "# Mô tả các hàm "
   ]
  },
  {
   "cell_type": "markdown",
   "id": "854bd722",
   "metadata": {},
   "source": [
    "             Gauss_elimination\n",
    "\n",
    "- **Input**:\n",
    "    - matrix: Ma trận mở rộng của hệ phương trình\n",
    "- **Output**: Ma trận có dạng bậc thang có được từ ma trận mở rộng đầu vào\n",
    "- **Mục đích**: Dùng phép khử Gauss để biến đổi ma trận mở rộng ban đầu của hệ phương trình về dạng bậc thang\n",
    "- **Hoạt động**:\n",
    "\n",
    "<strong> Giải thuật: </strong>\n",
    "\n",
    "\n",
    "\n",
    "\n",
    "1. **Khởi tạo biến**: Đầu tiên, khởi tạo hai biến `pivot_row` và `pivot_cols` để theo dõi vị trí hàng và cột của phần tử pivot đang xét.\n",
    "\n",
    "2. **Lặp qua các hàng và cột**: Sử dụng vòng lặp `while`, thuật toán sẽ lặp qua từng hàng và cột trong ma trận.\n",
    "\n",
    "3. **Tìm phần tử pivot**: Trong mỗi vòng lặp, thuật toán sẽ tìm phần tử pivot, tức là phần tử không bằng 0 đầu tiên trong cột hiện tại, bắt đầu từ hàng `pivot_row`.\n",
    "\n",
    "4. **Hoán vị hàng**: Nếu phần tử pivot không nằm ở hàng `pivot_row`, thuật toán sẽ hoán vị hai hàng để đưa phần tử pivot lớn nhất về hàng `pivot_row`.\n",
    "\n",
    "5. **Kiểm tra phần tử pivot**: Nếu phần tử pivot tại hàng `pivot_row` và cột `pivot_cols` bằng 0, thuật toán sẽ tăng `pivot_cols` lên 1 và tiếp tục với cột tiếp theo.\n",
    "\n",
    "6. **Biến đổi ma trận**: Nếu phần tử pivot không bằng 0, thuật toán sẽ sử dụng phần tử pivot để biến đổi các phần tử dưới nó thành 0 thông qua phép loại trừ Gauss.\n",
    "\n",
    "7. **Cập nhật pivot_row và pivot_cols**: Sau khi biến đổi xong, thuật toán sẽ tăng `pivot_row` và `pivot_cols` lên 1 để di chuyển đến hàng và cột tiếp theo.\n",
    "\n",
    "8. **Trả về kết quả**: Khi đã duyệt qua tất cả các hàng và cột, thuật toán sẽ trả về ma trận đã biến đổi.\n",
    "\n",
    "\n"
   ]
  },
  {
   "cell_type": "markdown",
   "id": "4a41f1a3",
   "metadata": {},
   "source": [
    "\n",
    "<ol>\n",
    "<code>back_substitution(A) -&gt; np.array</code> để thực hiện phương pháp thế ngược để giải hệ phương trình tuyến tính.\n",
    "        <ul>\n",
    "            <li>Xác định số hàng và cột của ma trận.</li>\n",
    "            <li>Khởi tạo một mảng <code>x</code> chứa các nghiệm, ban đầu là một mảng các số 0 có kích thước bằng với số cột của ma trận.</li>\n",
    "            <li>Bắt đầu từ hàng cuối cùng và đi lên trên.</li>\n",
    "            <li>Đối với mỗi hàng, tìm cột dẫn đầu đầu tiên không chứa số 0, nếu có.</li>\n",
    "            <li>Nếu không tìm thấy cột dẫn đầu, di chuyển sang hàng tiếp theo.</li>\n",
    "            <li>Nếu tìm thấy cột dẫn đầu, tính nghiệm tương ứng cho biến của cột đó.</li>\n",
    "            <li>Sử dụng phương pháp thế ngược để cập nhật các giá trị của các biến còn lại dựa trên nghiệm của biến dẫn đầu.</li>\n",
    "            <li>Nếu ma trận là ma trận 0, trả về một mảng chứa các biến tự do.</li>\n",
    "            <li>Trả về một mảng numpy chứa nghiệm của hệ phương trình.</li>\n",
    "        </ul>\n",
    "    \n",
    "</ol>"
   ]
  },
  {
   "cell_type": "markdown",
   "id": "f0f5564e",
   "metadata": {},
   "source": [
    "       Hàm is_leading_row(A: np.array, row: int, col: int) -> bool:\n",
    "\n",
    "Mục đích: Hàm này được sử dụng để kiểm tra xem một hàng có phải là hàng dẫn đầu không.\n",
    "Hoạt động:\n",
    "Tính tổng các phần tử bên trái của cột dẫn đầu của hàng cần kiểm tra bằng cách sử dụng phương thức sum() của thư viện NumPy.\n",
    "So sánh tổng với 0. Nếu bằng 0, hàm trả về True để chỉ ra rằng hàng này là hàng dẫn đầu. Ngược lại, trả về False.\n",
    "\n",
    "       Hàm is_zero_matrix(A: np.array) -> bool:\n",
    "\n",
    "Mục đích: Hàm này được sử dụng để kiểm tra xem ma trận có phải là ma trận 0 không.\n",
    "Hoạt động:\n",
    "Duyệt qua từng phần tử của ma trận.\n",
    "Nếu tìm thấy một phần tử khác 0, hàm trả về False để chỉ ra rằng ma trận không phải là ma trận 0.\n",
    "Nếu không tìm thấy phần tử khác 0 sau khi duyệt hết, hàm trả về True để chỉ ra rằng ma trận là ma trận 0.\n",
    "\n",
    "       Hàm extract_matrix(A: np.array) -> np.array:\n",
    "\n",
    "Mục đích: Hàm này được sử dụng để trích xuất ma trận các hệ số từ ma trận mở rộng.\n",
    "Hoạt động:\n",
    "Chuyển vị của ma trận mở rộng để thuận tiện cho việc loại bỏ cột vế phải.\n",
    "Loại bỏ cột cuối cùng (cột vế phải).\n",
    "Chuyển vị trở lại để có kết quả cuối cùng."
   ]
  },
  {
   "cell_type": "markdown",
   "id": "3bbefa05",
   "metadata": {},
   "source": [
    "# Mở rộng: tìm hiểu các hàm/ phương thức tương ứng của các thư viện"
   ]
  },
  {
   "cell_type": "markdown",
   "id": "edc8e692",
   "metadata": {},
   "source": [
    "## TÌm ma trận bậc thang thư viện Numpy"
   ]
  },
  {
   "cell_type": "code",
   "execution_count": 26,
   "id": "009e3972",
   "metadata": {},
   "outputs": [
    {
     "name": "stdout",
     "output_type": "stream",
     "text": [
      "Ma trận bậc thang U:\n",
      "[[ -3.          -1.           2.         -11.        ]\n",
      " [  0.           1.66666667   0.66666667   4.33333333]\n",
      " [  0.           0.           0.2         -0.2       ]]\n"
     ]
    }
   ],
   "source": [
    "import numpy as np\n",
    "from scipy.linalg import lu\n",
    "\n",
    "# Định nghĩa hàm Gauss_elimination\n",
    "def Gauss_elimination(A):\n",
    "    # Phân tích ma trận thành L và U\n",
    "    P, L, U = lu(A)\n",
    "    \n",
    "    return U\n",
    "\n",
    "# Tạo ma trận mở rộng A\n",
    "A = [[2, 1, -1, 8],\n",
    "     [-3, -1, 2, -11],\n",
    "     [-2, 1, 2, -3]]\n",
    "\n",
    "\n",
    "# Gọi hàm Gauss_elimination và nhận ma trận bậc thang U\n",
    "U = Gauss_elimination(A)\n",
    "\n",
    "print(\"Ma trận bậc thang U:\")\n",
    "print(U)\n"
   ]
  },
  {
   "cell_type": "markdown",
   "id": "62af4b23",
   "metadata": {},
   "source": [
    "## Giải hệ phương trình tuyến tính sử dụng thư viện SciPy"
   ]
  },
  {
   "cell_type": "markdown",
   "id": "3f551cd3",
   "metadata": {},
   "source": [
    "1. Import thư viện NumPy: Đầu tiên, chúng ta cần import thư viện NumPy.\n",
    "\n",
    "2. Sử dụng hàm np.linalg.solve(): Thư viện NumPy cung cấp hàm np.linalg.solve() để giải hệ phương trình tuyến tính. Chúng ta sẽ sử dụng hàm này để tìm các nghiệm của hệ phương trình.\n",
    "\n",
    "3. Gọi hàm np.linalg.solve() và truyền ma trận A và vectơ b vào đó: Trong trường hợp này, ma trận A đã cho không chứa vectơ kết quả. Chúng ta chỉ cần truyền ma trận A vào hàm np.linalg.solve().\n",
    "\n",
    "4. Xem kết quả: Hàm np.linalg.solve() sẽ trả về các nghiệm của hệ phương trình, và sau đó chúng ta có thể in kết quả ra màn hình."
   ]
  },
  {
   "cell_type": "code",
   "execution_count": 27,
   "id": "c0bff2fb",
   "metadata": {},
   "outputs": [
    {
     "name": "stdout",
     "output_type": "stream",
     "text": [
      "[ 2.  3. -1.]\n"
     ]
    }
   ],
   "source": [
    "import numpy as np\n",
    "from scipy.linalg import lu_factor, lu_solve\n",
    "\n",
    "# Ma trận hệ số\n",
    "A = np.array([[2, 1, -1],\n",
    "              [-3, -1, 2],\n",
    "              [-2, 1, 2]])\n",
    "\n",
    "# Ma trận kết quả\n",
    "b = np.array([8, -11, -3])\n",
    "\n",
    "# Phân tích LU\n",
    "lu, piv = lu_factor(A)\n",
    "\n",
    "# Giải hệ phương trình\n",
    "x = lu_solve((lu, piv), b)\n",
    "\n",
    "print(x)"
   ]
  },
  {
   "cell_type": "markdown",
   "id": "df468184",
   "metadata": {},
   "source": [
    "## Giải hệ phương trình tuyến tính sử dụng thư viện Numpy:"
   ]
  },
  {
   "cell_type": "code",
   "execution_count": 28,
   "id": "99b834eb",
   "metadata": {},
   "outputs": [
    {
     "name": "stdout",
     "output_type": "stream",
     "text": [
      "Nghiệm của hệ phương trình tuyến tính:\n",
      "[ 2.  3. -1.]\n"
     ]
    }
   ],
   "source": [
    "import numpy as np\n",
    "\n",
    "# Hệ số của ma trận A\n",
    "A = np.array([[2, 1, -1],\n",
    "              [-3, -1, 2],\n",
    "              [-2, 1, 2]])\n",
    "\n",
    "# Hệ số của vế phải (tự do) b\n",
    "b = np.array([8, -11, -3])\n",
    "\n",
    "# Giải hệ phương trình tuyến tính Ax = b sử dụng NumPy\n",
    "x = np.linalg.solve(A, b)\n",
    "\n",
    "print(\"Nghiệm của hệ phương trình tuyến tính:\")\n",
    "print(x)\n"
   ]
  },
  {
   "cell_type": "markdown",
   "id": "12bfeb03",
   "metadata": {},
   "source": [
    "## Giải hệ phương trình tuyến tính sử dụng thư viện SymPy"
   ]
  },
  {
   "cell_type": "code",
   "execution_count": 29,
   "id": "5294c344",
   "metadata": {
    "scrolled": true
   },
   "outputs": [
    {
     "name": "stdout",
     "output_type": "stream",
     "text": [
      "Nghiệm của hệ phương trình tuyến tính:\n",
      "[ 2.  3. -1.]\n"
     ]
    }
   ],
   "source": [
    "import numpy as np\n",
    "from scipy.linalg import solve\n",
    "\n",
    "# Hệ số của ma trận A\n",
    "A = np.array([[2, 1, -1],\n",
    "              [-3, -1, 2],\n",
    "              [-2, 1, 2]])\n",
    "\n",
    "# Hệ số của vế phải (tự do) b\n",
    "b = np.array([8, -11, -3])\n",
    "\n",
    "# Giải hệ phương trình tuyến tính Ax = b sử dụng SciPy\n",
    "x = solve(A, b)\n",
    "\n",
    "print(\"Nghiệm của hệ phương trình tuyến tính:\")\n",
    "print(x)\n"
   ]
  },
  {
   "cell_type": "markdown",
   "id": "289ad620",
   "metadata": {},
   "source": [
    "## So sánh kết quả\n",
    "Việc sử dụng các thư viện như NumPy, SciPy, và SymPy để giải hệ phương trình tuyến tính cho kết quả giống nhau. tuy nhiên Các thư viện thường được viết bằng ngôn ngữ lập trình được tối ưu hóa như C hoặc Fortran nên thường nhanh hơn so với các hàm viết bằng tay trong Python "
   ]
  }
 ],
 "metadata": {
  "kernelspec": {
   "display_name": "Python 3 (ipykernel)",
   "language": "python",
   "name": "python3"
  },
  "language_info": {
   "codemirror_mode": {
    "name": "ipython",
    "version": 3
   },
   "file_extension": ".py",
   "mimetype": "text/x-python",
   "name": "python",
   "nbconvert_exporter": "python",
   "pygments_lexer": "ipython3",
   "version": "3.11.8"
  }
 },
 "nbformat": 4,
 "nbformat_minor": 5
}
